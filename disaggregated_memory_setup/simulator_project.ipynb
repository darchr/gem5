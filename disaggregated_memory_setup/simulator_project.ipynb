{
 "cells": [
  {
   "cell_type": "code",
   "execution_count": 27,
   "metadata": {},
   "outputs": [],
   "source": [
    "# This script generates plots for the disaggregated memory project.\n",
    "# Run this script from amarillo.cs.ucdavis.edu\n",
    "\n",
    "import numpy as np\n",
    "import matplotlib.pyplot as plt\n",
    "\n",
    "plot_idx = 0\n",
    "# overwrite this for each plot\n",
    "data = np.zeros((3,4))\n",
    "home_path = \"/scr/kaustavg/simulators-at-scratch/DArchR/WorkingDir/\" \\\n",
    "            + \"SST13/gem5/ext/sst/final_data\"\n",
    "kernels = [\"Copy\", \"Scale\", \"Add\", \"Triad\"]\n",
    "bar_width = float(1/4)"
   ]
  },
  {
   "cell_type": "code",
   "execution_count": 2,
   "metadata": {},
   "outputs": [],
   "source": [
    "# Timing results"
   ]
  },
  {
   "cell_type": "code",
   "execution_count": 37,
   "metadata": {},
   "outputs": [
    {
     "name": "stdout",
     "output_type": "stream",
     "text": [
      "Results  9\n",
      "[0, 1, 2, 3] [[6.308304 5.890346 7.01689  6.978944]\n",
      " [6.008993 5.932203 7.050845 6.956073]\n",
      " [1.881847 1.874148 2.094582 2.086612]]\n"
     ]
    },
    {
     "data": {
      "image/png": "[encoded data removed]",
      "text/plain": [
       "<Figure size 432x288 with 1 Axes>"
      ]
     },
     "metadata": {
      "needs_background": "light"
     },
     "output_type": "display_data"
    }
   ],
   "source": [
    "# O3 Results\n",
    "\n",
    "print(\"Results \", plot_idx)\n",
    "plot_idx += 1\n",
    "\n",
    "plt.title(\"1 O3CPU\")\n",
    "f = open(home_path + \"/m5out_node_O3_0/system.platform.terminal\", \"r\")\n",
    "exp = 0\n",
    "kernel = 0\n",
    "for lines in f.read().split(\"\\n\"):\n",
    "    if \"Bandwidth\" in lines:\n",
    "        data[exp][kernel] = float(lines.split(\" \")[1])\n",
    "        kernel += 1\n",
    "        if kernel % 4 == 0:\n",
    "            exp += 1\n",
    "            kernel = 0\n",
    "\n",
    "print([i for i in range(4)], data)\n",
    "\n",
    "x_axis = np.arange(len(kernels))\n",
    "plt.xticks(x_axis, kernels)\n",
    "\n",
    "plt.bar(x_axis, data[0], bar_width, label=\"NUMA-0\")\n",
    "plt.bar(x_axis - bar_width, data[1], bar_width,  label=\"NUMA-0,1\")\n",
    "plt.bar(x_axis + bar_width, data[2], bar_width,  label=\"NUMA-1\")\n",
    "plt.legend()\n",
    "plt.show()"
   ]
  },
  {
   "cell_type": "code",
   "execution_count": 41,
   "metadata": {},
   "outputs": [
    {
     "name": "stdout",
     "output_type": "stream",
     "text": [
      "Results  13\n",
      "[0, 1, 2, 3] [[10.324512 10.065496 11.409131 11.371691]\n",
      " [10.31722  10.129058 11.51054  11.468607]\n",
      " [ 7.576464  7.489263  8.33215   8.295167]]\n"
     ]
    },
    {
     "data": {
      "image/png": "[encoded data removed]",
      "text/plain": [
       "<Figure size 432x288 with 1 Axes>"
      ]
     },
     "metadata": {
      "needs_background": "light"
     },
     "output_type": "display_data"
    }
   ],
   "source": [
    "# O3 Results\n",
    "\n",
    "print(\"Results \", plot_idx)\n",
    "plot_idx += 1\n",
    "\n",
    "plt.title(\"4 O3CPU\")\n",
    "f = open(home_path + \"/m5out_node_0/system.platform.terminal\", \"r\")\n",
    "exp = 0\n",
    "kernel = 0\n",
    "for lines in f.read().split(\"\\n\"):\n",
    "    if \"Bandwidth\" in lines:\n",
    "        data[exp][kernel] = float(lines.split(\" \")[1])\n",
    "        kernel += 1\n",
    "        if kernel % 4 == 0:\n",
    "            exp += 1\n",
    "            kernel = 0\n",
    "\n",
    "print([i for i in range(4)], data)\n",
    "\n",
    "x_axis = np.arange(len(kernels))\n",
    "plt.xticks(x_axis, kernels)\n",
    "\n",
    "plt.bar(x_axis, data[0], bar_width, label=\"NUMA-0\")\n",
    "plt.bar(x_axis - bar_width, data[1], bar_width,  label=\"NUMA-0,1\")\n",
    "plt.bar(x_axis + bar_width, data[2], bar_width,  label=\"NUMA-1\")\n",
    "plt.legend()\n",
    "plt.show()"
   ]
  }
 ],
 "metadata": {
  "kernelspec": {
   "display_name": "Python 3 (ipykernel)",
   "language": "python",
   "name": "python3"
  }
 },
 "nbformat": 4,
 "nbformat_minor": 2
}
